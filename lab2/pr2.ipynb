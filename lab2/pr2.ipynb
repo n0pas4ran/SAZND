{
  "cells": [
    {
      "cell_type": "raw",
      "metadata": {},
      "source": [
        "---\n",
        "title: \"pr2\"\n",
        "format: html\n",
        "editor: visual\n",
        "---"
      ],
      "id": "e4b21777"
    },
    {
      "cell_type": "markdown",
      "metadata": {},
      "source": [
        "## Цель\n",
        "\n",
        "Проанализировать сетевой трафик устройства и определить процент трафика, явлюющегося нежелательным\n",
        "\n",
        "## Исходные данные\n",
        "\n",
        "1.  Ноутбук с Parrot OS\n",
        "2.  Редактор VS Code\n",
        "3.  Python 3.7\n",
        "4.  Wireshark\n",
        "5.  Zeek\n",
        "\n",
        "## Вариант решения\n",
        "\n",
        "1.  Wireshark захватывает сетевой трафик\n",
        "2.  Zeek выделяет метаданные трафика\n",
        "3.  Программа определяет процент нежелательного трафика\n",
        "\n",
        "## План\n",
        "\n",
        "1.  Собрать трафик\n",
        "2.  Выделить метаднные в .log файл\n",
        "3.  Написать программу\n",
        "4.  Провести анализ трафика\n",
        "\n",
        "## Описание шагов\n",
        "\n",
        "1.  Сбор трафика\n",
        "\n",
        "![](images/image-150035345.png)\n",
        "\n",
        "2.  Выделение метаданных с помощью утилиты zeek\n",
        "\n",
        "Сохраним захваченных трафик, воспользуемся следующей командой:\n",
        "\n",
        "\n",
        "```{bash}\n",
        "/opt/zeek/bin/zeek -C -r /home/heis3nberg/Downloads/traf.pcanpg\n",
        "```\n",
        "\n",
        "\n",
        "В результате метаданные будут сохранены в файл /opt/zeek/bin/dns.log\n",
        "\n",
        "![](images/image-1903376626.png)\n",
        "\n",
        "3.  Напишем программу на языке python для анализа логов на нежелательный трафик, в качестве побочного средства будем использовать файл hosts.txt (https://github.com/StevenBlack/hosts/blob/master/data/add.2o7Net/hosts), содержащий список нежелательных доменных имен\n"
      ],
      "id": "b9e56d18"
    },
    {
      "cell_type": "code",
      "metadata": {},
      "source": [
        "import re\n",
        "with open('res.txt') as f:\n",
        "    i = 0\n",
        "    for count, line in enumerate(f):\n",
        "        pass\n",
        "\n",
        "countBad = 0\n",
        "\n",
        "f = open('res.txt')\n",
        "h = open('hosts.txt')\n",
        "br = h.read()\n",
        "i = 0\n",
        "for line in f:\n",
        "    i+=1\n",
        "    if(i<=7):\n",
        "        continue\n",
        "    if i == count+1 :\n",
        "        break\n",
        "\n",
        "    temp = line.split()\n",
        "    if str(temp[9]) in br:\n",
        "        countBad += 1\n",
        "print(str(round(countBad * 100/ (count-7), 2)) + '%')"
      ],
      "id": "828488e0",
      "execution_count": null,
      "outputs": []
    },
    {
      "cell_type": "markdown",
      "metadata": {},
      "source": [
        "4.  В результате получаем: 18.2% от всего трафика является нежелательным\n",
        "\n",
        "![](images/image-433050042.png)\n",
        "\n",
        "## Оценка результатов\n",
        "\n",
        "Задача решена с помощью python, zeek и wireshark. Я научился захватывать трафик в реальном времени и анализировать его.\n",
        "\n",
        "## Вывод\n",
        "\n",
        "В данной работе я провел анализ своего трафика в сети и выявил, что практически одна пятая его часть является нежелательной и, возможно, скрытой от меня. Берегите себя и своих близких, пользуйтесь AdBlock и относитесь ответственно к интернет-серфингу."
      ],
      "id": "46f475c0"
    }
  ],
  "metadata": {
    "kernelspec": {
      "name": "python3",
      "language": "python",
      "display_name": "Python 3 (ipykernel)"
    }
  },
  "nbformat": 4,
  "nbformat_minor": 5
}